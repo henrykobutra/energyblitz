{
 "cells": [
  {
   "cell_type": "code",
   "execution_count": 1,
   "metadata": {},
   "outputs": [
    {
     "data": {
      "text/html": [
       "<div>\n",
       "<style scoped>\n",
       "    .dataframe tbody tr th:only-of-type {\n",
       "        vertical-align: middle;\n",
       "    }\n",
       "\n",
       "    .dataframe tbody tr th {\n",
       "        vertical-align: top;\n",
       "    }\n",
       "\n",
       "    .dataframe thead th {\n",
       "        text-align: right;\n",
       "    }\n",
       "</style>\n",
       "<table border=\"1\" class=\"dataframe\">\n",
       "  <thead>\n",
       "    <tr style=\"text-align: right;\">\n",
       "      <th></th>\n",
       "      <th>id</th>\n",
       "      <th>feature</th>\n",
       "      <th>contribution</th>\n",
       "    </tr>\n",
       "  </thead>\n",
       "  <tbody>\n",
       "    <tr>\n",
       "      <th>0</th>\n",
       "      <td>1</td>\n",
       "      <td>consumption_change_rate_24h</td>\n",
       "      <td>4108.920410</td>\n",
       "    </tr>\n",
       "    <tr>\n",
       "      <th>1</th>\n",
       "      <td>2</td>\n",
       "      <td>hour</td>\n",
       "      <td>1565.668945</td>\n",
       "    </tr>\n",
       "    <tr>\n",
       "      <th>2</th>\n",
       "      <td>3</td>\n",
       "      <td>PJME_lag_24h</td>\n",
       "      <td>-395.084839</td>\n",
       "    </tr>\n",
       "    <tr>\n",
       "      <th>3</th>\n",
       "      <td>4</td>\n",
       "      <td>avg_temperature_washington</td>\n",
       "      <td>-262.041870</td>\n",
       "    </tr>\n",
       "    <tr>\n",
       "      <th>4</th>\n",
       "      <td>5</td>\n",
       "      <td>day_of_week</td>\n",
       "      <td>247.351227</td>\n",
       "    </tr>\n",
       "  </tbody>\n",
       "</table>\n",
       "</div>"
      ],
      "text/plain": [
       "   id                      feature  contribution\n",
       "0   1  consumption_change_rate_24h   4108.920410\n",
       "1   2                         hour   1565.668945\n",
       "2   3                 PJME_lag_24h   -395.084839\n",
       "3   4   avg_temperature_washington   -262.041870\n",
       "4   5                  day_of_week    247.351227"
      ]
     },
     "execution_count": 1,
     "metadata": {},
     "output_type": "execute_result"
    }
   ],
   "source": [
    "import pandas as pd\n",
    "import json\n",
    "\n",
    "# Load the JSON file\n",
    "with open('../frontend/contributors.json', 'r') as f:\n",
    "    contributors_data = json.load(f)\n",
    "\n",
    "# Convert to DataFrame\n",
    "df = pd.DataFrame(contributors_data)\n",
    "\n",
    "# Display first few rows to verify the data\n",
    "df.head()"
   ]
  },
  {
   "cell_type": "code",
   "execution_count": 2,
   "metadata": {},
   "outputs": [
    {
     "name": "stdout",
     "output_type": "stream",
     "text": [
      "Number of unique contributors: 15\n",
      "\n",
      "Unique features:\n",
      "['consumption_change_rate_24h' 'hour' 'PJME_lag_24h'\n",
      " 'avg_temperature_washington' 'day_of_week' 'PJMW_lag_24h' 'is_peak_hour'\n",
      " 'temp_hour_sin' 'temperature_washington' 'min_temperature' 'temperature'\n",
      " 'avg_temperature' 'is_peak_hour_of_week' 'temp_hour_cos' 'hour_cos']\n"
     ]
    }
   ],
   "source": [
    "# Count unique values in the 'feature' column\n",
    "num_unique = df['feature'].nunique()\n",
    "print(f\"Number of unique contributors: {num_unique}\")\n",
    "\n",
    "# To see the list of unique features:\n",
    "print(\"\\nUnique features:\")\n",
    "print(df['feature'].unique())"
   ]
  },
  {
   "cell_type": "code",
   "execution_count": 5,
   "metadata": {},
   "outputs": [
    {
     "name": "stdout",
     "output_type": "stream",
     "text": [
      "Features sorted by absolute mean contribution:\n",
      "                             mean_contribution  abs_mean_contribution  \\\n",
      "feature                                                                 \n",
      "PJME_lag_24h                           -35.464               2135.937   \n",
      "consumption_change_rate_24h              9.847               1938.911   \n",
      "hour                                    13.895               1510.843   \n",
      "min_temperature                        294.803                535.526   \n",
      "PJMW_lag_24h                           188.296                485.754   \n",
      "temperature_washington                 463.534                463.534   \n",
      "avg_temperature_washington             143.281                461.656   \n",
      "avg_temperature                        445.718                445.718   \n",
      "day_of_week                            -30.797                374.118   \n",
      "temperature                            371.042                371.042   \n",
      "hour_cos                              -369.776                369.776   \n",
      "is_peak_hour                          -332.437                332.437   \n",
      "temp_hour_sin                          275.615                280.827   \n",
      "temp_hour_cos                          231.519                231.519   \n",
      "is_peak_hour_of_week                  -140.162                140.162   \n",
      "\n",
      "                             std_contribution  count  \n",
      "feature                                               \n",
      "PJME_lag_24h                         2633.592   3002  \n",
      "consumption_change_rate_24h          2359.014   2999  \n",
      "hour                                 1611.007   3230  \n",
      "min_temperature                       547.166   1152  \n",
      "PJMW_lag_24h                          486.564   1343  \n",
      "temperature_washington                 92.381     18  \n",
      "avg_temperature_washington            484.235   1507  \n",
      "avg_temperature                        98.312    241  \n",
      "day_of_week                           411.461    869  \n",
      "temperature                            51.589     83  \n",
      "hour_cos                                  NaN      1  \n",
      "is_peak_hour                           85.195   1735  \n",
      "temp_hour_sin                         116.063     96  \n",
      "temp_hour_cos                             NaN      1  \n",
      "is_peak_hour_of_week                      NaN      1  \n"
     ]
    }
   ],
   "source": [
    "# Group by feature and calculate mean contribution\n",
    "feature_importance = df.groupby('feature')['contribution'].agg([\n",
    "    ('mean_contribution', 'mean'),\n",
    "    ('abs_mean_contribution', lambda x: abs(x).mean()),\n",
    "    ('std_contribution', 'std'),\n",
    "    ('count', 'count')\n",
    "]).round(3)\n",
    "\n",
    "# Sort by absolute mean contribution\n",
    "print(\"Features sorted by absolute mean contribution:\")\n",
    "print(feature_importance.sort_values('abs_mean_contribution', ascending=False))"
   ]
  }
 ],
 "metadata": {
  "kernelspec": {
   "display_name": "venv",
   "language": "python",
   "name": "python3"
  },
  "language_info": {
   "codemirror_mode": {
    "name": "ipython",
    "version": 3
   },
   "file_extension": ".py",
   "mimetype": "text/x-python",
   "name": "python",
   "nbconvert_exporter": "python",
   "pygments_lexer": "ipython3",
   "version": "3.12.4"
  }
 },
 "nbformat": 4,
 "nbformat_minor": 2
}
